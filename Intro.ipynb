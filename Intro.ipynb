{
  "metadata": {
    "kernelspec": {
      "name": "python",
      "display_name": "Python (Pyodide)",
      "language": "python"
    },
    "language_info": {
      "codemirror_mode": {
        "name": "python",
        "version": 3
      },
      "file_extension": ".py",
      "mimetype": "text/x-python",
      "name": "python",
      "nbconvert_exporter": "python",
      "pygments_lexer": "ipython3",
      "version": "3.8"
    }
  },
  "nbformat_minor": 5,
  "nbformat": 4,
  "cells": [
    {
      "id": "c809ee6a-caa9-4e58-a5d0-5eaa28266371",
      "cell_type": "raw",
      "source": "Problem 1 - Variables and Data types",
      "metadata": {}
    },
    {
      "id": "916d00eb-33c6-402b-9814-afa98cea8c34",
      "cell_type": "code",
      "source": "name = \"Rohit\"",
      "metadata": {
        "trusted": true
      },
      "outputs": [],
      "execution_count": null
    },
    {
      "id": "7d1bb94c-e553-4f37-8105-b777d978c1a2",
      "cell_type": "code",
      "source": "age = 23",
      "metadata": {
        "trusted": true
      },
      "outputs": [],
      "execution_count": null
    },
    {
      "id": "d35b8625-b11e-414d-b732-13d4f76d650e",
      "cell_type": "code",
      "source": "has_android_phone = True",
      "metadata": {
        "trusted": true
      },
      "outputs": [],
      "execution_count": null
    },
    {
      "id": "fc8cb3ef-a077-4c3a-8fd6-cf31e1d3d015",
      "cell_type": "code",
      "source": "name, age, has_android_phone",
      "metadata": {
        "trusted": true
      },
      "outputs": [],
      "execution_count": null
    },
    {
      "id": "fc34ba41-e730-4942-9890-940f475d073d",
      "cell_type": "code",
      "source": "person = {\n    'Name': name,\n    'Age': age,\n    'Has_android_phone': has_android_phone\n}",
      "metadata": {
        "trusted": true
      },
      "outputs": [],
      "execution_count": null
    },
    {
      "id": "cc18db6f-7c15-47f0-9270-7426b1daadb0",
      "cell_type": "code",
      "source": "person",
      "metadata": {
        "trusted": true
      },
      "outputs": [],
      "execution_count": null
    },
    {
      "id": "ef9f5e9e-5105-4bb9-96e0-55aa49435033",
      "cell_type": "code",
      "source": "print(\"{} is aged {}, and owns an {}.\".format(\n    person[\"Name\"],\n    person[\"Age\"],\n    \"Android phone\" if person[\"Has_android_phone\"] else \"iPhone\"\n))",
      "metadata": {
        "trusted": true
      },
      "outputs": [],
      "execution_count": null
    },
    {
      "id": "a7714f83-cb6c-4ea5-b49d-e5942f144399",
      "cell_type": "code",
      "source": "for items in person:\n    print(\"The key {} has the value {} of the type of{}.\".format(\n        items,\n        person[items],\n        type(person[items])\n    ))",
      "metadata": {
        "trusted": true
      },
      "outputs": [],
      "execution_count": null
    },
    {
      "id": "3fd94df9-e2db-4a5d-8733-2fa6fcb7fa34",
      "cell_type": "code",
      "source": "# Problem 2 - Working with lists",
      "metadata": {
        "trusted": true
      },
      "outputs": [],
      "execution_count": null
    },
    {
      "id": "7fb0a9c6-18bb-47d3-adf7-f65d2b3f266d",
      "cell_type": "code",
      "source": "my_list = ['Purple', 1, False]",
      "metadata": {
        "trusted": true
      },
      "outputs": [],
      "execution_count": null
    },
    {
      "id": "391adc10-529b-4a4a-8485-8d35c7d32037",
      "cell_type": "code",
      "source": "my_list",
      "metadata": {
        "trusted": true
      },
      "outputs": [],
      "execution_count": null
    },
    {
      "id": "5229355d-eb09-41b9-98e8-d34e40ca3c28",
      "cell_type": "code",
      "source": "print('My favorite color is ', my_list[0])\nprint('I have {} pet(s). ' .format(my_list[1]))",
      "metadata": {
        "trusted": true
      },
      "outputs": [],
      "execution_count": null
    },
    {
      "id": "5a1c8e8b-8af2-429a-a3b5-d34e6b9a7088",
      "cell_type": "code",
      "source": "if my_list[2]:\n    print(\"I have previous programming experience\")\nelse:\n    print(\"I do not have previous programming experience\")",
      "metadata": {
        "trusted": true
      },
      "outputs": [],
      "execution_count": null
    },
    {
      "id": "94038d67-e9a0-4717-99b3-84e03b7a4be3",
      "cell_type": "code",
      "source": "my_list.append(7)",
      "metadata": {
        "trusted": true
      },
      "outputs": [],
      "execution_count": null
    },
    {
      "id": "05dec377-6522-4996-84b4-8e4a412a33f3",
      "cell_type": "code",
      "source": "my_list",
      "metadata": {
        "trusted": true
      },
      "outputs": [],
      "execution_count": null
    },
    {
      "id": "93e12c6c-aae7-4b7a-973c-3740f544074d",
      "cell_type": "code",
      "source": "my_list.pop(0)",
      "metadata": {
        "trusted": true
      },
      "outputs": [],
      "execution_count": null
    },
    {
      "id": "3532da9f-23c4-441a-a9f9-3267e0e65ced",
      "cell_type": "code",
      "source": "my_list",
      "metadata": {
        "trusted": true
      },
      "outputs": [],
      "execution_count": null
    },
    {
      "id": "1633d82e-d72f-4978-a6b3-aafe78970fc0",
      "cell_type": "code",
      "source": "print(\"The list has {} elements.\".format(len(my_list)))",
      "metadata": {
        "trusted": true
      },
      "outputs": [],
      "execution_count": null
    },
    {
      "id": "77b02a66-0cef-4a0b-a83b-5574a97dc782",
      "cell_type": "code",
      "source": "#Problem 3 - Conditions and loops",
      "metadata": {
        "trusted": true
      },
      "outputs": [],
      "execution_count": null
    },
    {
      "id": "c6370aae-0a2c-45ed-82d8-6e81fcf683f5",
      "cell_type": "code",
      "source": "num = 7\nsum_of_numbers = 0\n\nfor i in range(18, 534):\n    if i%7 == 0:\n        print(i)\n        sum_of_numbers = sum_of_numbers + i\n\nprint('The sum of all the numbers divisible by 7 between 18 and 534 is', sum_of_numbers)",
      "metadata": {
        "trusted": true
      },
      "outputs": [],
      "execution_count": null
    },
    {
      "id": "f6a8722a-b9c8-48ce-b369-f50c69e54939",
      "cell_type": "code",
      "source": "# Problem 4 - Flying to the Bahamas",
      "metadata": {
        "trusted": true
      },
      "outputs": [],
      "execution_count": null
    },
    {
      "id": "9dfe6721-ef2d-45c1-858f-ce55bc96b6b0",
      "cell_type": "code",
      "source": "cost_of_plane = 5000\n\nnumber_of_passengers = 29\n\nprice_of_ticket_pp = 200\n\nprofit = (number_of_passengers*price_of_ticket_pp) - cost_of_plane\n\nreturning_passengers = 12\n\nprint('The company makes of a profit of {} dollars'.format(profit))\n\nprofit = (returning_passengers * price_of_ticket_pp) - cost_of_plane + profit\n\nif profit > 0:\n    print(\"The company makes an overall profit of {} dollars\".format(profit))\nelse:\n    print(\"The company makes an overall loss of {} dollars\".format(abs(profit)))\n",
      "metadata": {
        "trusted": true
      },
      "outputs": [],
      "execution_count": null
    },
    {
      "id": "2b225538-f8fc-4cb2-b068-83d7b46ee285",
      "cell_type": "code",
      "source": "# Problem 5 - Twitter Sentiment Analysis",
      "metadata": {
        "trusted": true
      },
      "outputs": [],
      "execution_count": null
    },
    {
      "id": "49e53d8d-45ce-452a-8df7-d0318877e74e",
      "cell_type": "code",
      "source": "tweets = [\n    \"Wow, what a great day today!! #sunshine\",\n    \"I feel sad about the things going on around us. #covid19\",\n    \"I'm really excited to learn Python with @JovianML #zerotopandas\",\n    \"This is a really nice song. #linkinpark\",\n    \"The python programming language is useful for data science\",\n    \"Why do bad things happen to me?\",\n    \"Apple announces the release of the new iPhone 12. Fans are excited.\",\n    \"Spent my day with family!! #happy\",\n    \"Check out my blog post on common string operations in Python. #zerotopandas\",\n    \"Freecodecamp has great coding tutorials. #skillup\"\n]",
      "metadata": {
        "trusted": true
      },
      "outputs": [],
      "execution_count": null
    },
    {
      "id": "ca67fbf2-064e-4b84-86b2-b817ee97bb6b",
      "cell_type": "code",
      "source": "number_of_tweets = len(tweets)\n# print(number_of_tweets)\nnumber_of_tweets",
      "metadata": {
        "trusted": true
      },
      "outputs": [],
      "execution_count": null
    },
    {
      "id": "a0ebede4-ea6b-47df-858a-78f6f519c235",
      "cell_type": "code",
      "source": "happy_words = ['great', 'excited', 'nice', 'happy', 'wonderful', 'amazing', 'good', 'best']\nsad_words = ['sad', 'bad', 'tragic', 'unhappy', 'worst']",
      "metadata": {
        "trusted": true
      },
      "outputs": [],
      "execution_count": null
    },
    {
      "id": "bb385e38-8167-443e-8b00-9401e4b0b56a",
      "cell_type": "code",
      "source": "sample_tweet = tweets[0]\nsample_tweet",
      "metadata": {
        "trusted": true
      },
      "outputs": [],
      "execution_count": null
    },
    {
      "id": "a78799b6-d8cd-44a9-88c4-8565453b44f5",
      "cell_type": "code",
      "source": "is_tweet_happy = False\n\nfor word in happy_words:\n    if word in sample_tweet:\n        is_tweet_happy = True\n\nis_tweet_happy",
      "metadata": {
        "trusted": true
      },
      "outputs": [],
      "execution_count": null
    },
    {
      "id": "ec539889-530f-452a-a9f8-6b112fe923a3",
      "cell_type": "code",
      "source": "number_of_happy_tweets = 0\nfor tweet in tweets:\n    is_tweet_happy = False\n    for word in happy_words:\n        if word in tweet:\n            is_tweet_happy = True\n    if is_tweet_happy == True:\n        number_of_happy_tweets += 1\n\nprint('The number of happy tweets:', number_of_happy_tweets)",
      "metadata": {
        "trusted": true
      },
      "outputs": [],
      "execution_count": null
    },
    {
      "id": "b3fc31d0-0055-4b18-88ce-43e0606248bf",
      "cell_type": "code",
      "source": "happy_fraction = number_of_happy_tweets / number_of_tweets\nprint(\"The fraction of happy tweet is\", happy_fraction)",
      "metadata": {
        "trusted": true
      },
      "outputs": [],
      "execution_count": null
    },
    {
      "id": "f47f9682-8a2c-479d-98b1-2771ac8c0d7b",
      "cell_type": "code",
      "source": "number_of_sad_tweets = 0\n\nfor i in tweets:\n    is_tweet_sad = False\n    for word in sad_words:\n        if word in i:\n            is_tweet_sad = True\n    if is_tweet_sad == True:\n        number_of_sad_tweets += 1\n\nprint('The number of sad tweets:', number_of_sad_tweets)",
      "metadata": {
        "trusted": true
      },
      "outputs": [],
      "execution_count": null
    },
    {
      "id": "3ab02332-6810-4e96-8d99-a41793e79d43",
      "cell_type": "code",
      "source": "sad_fraction = number_of_sad_tweets / number_of_tweets\n\nprint('The fraction of sad tweet is', sad_fraction)",
      "metadata": {
        "trusted": true
      },
      "outputs": [],
      "execution_count": null
    },
    {
      "id": "02ff980e-95d2-4c70-a927-2024d93ebb5d",
      "cell_type": "code",
      "source": "sentiment_score = happy_fraction - sad_fraction\n\nprint('The sentiment score for the given tweets is', sentiment_score)",
      "metadata": {
        "trusted": true
      },
      "outputs": [],
      "execution_count": null
    },
    {
      "id": "c9387e63-9005-414b-b449-977c73ffe644",
      "cell_type": "code",
      "source": "if sentiment_score > 0:\n    print('The overall sentiment score is happy.')\nelse:\n    print('The overall sentiment score is sad.')",
      "metadata": {
        "trusted": true
      },
      "outputs": [],
      "execution_count": null
    },
    {
      "id": "8495574c-ef8f-4558-bfa5-cab0668acfe4",
      "cell_type": "code",
      "source": "number_of_neutral_tweets = number_of_tweets - (number_of_sad_tweets + number_of_happy_tweets)\n\nprint('The number of neutral tweets are', number_of_neutral_tweets)",
      "metadata": {
        "trusted": true
      },
      "outputs": [],
      "execution_count": null
    },
    {
      "id": "ba1697f6-7f9f-4ab7-8f74-e977cfd6ed83",
      "cell_type": "code",
      "source": "neutral_fraction = number_of_neutral_tweets/number_of_tweets\n\nprint('The fraction of neutral tweet is', neutral_fraction)",
      "metadata": {
        "trusted": true
      },
      "outputs": [],
      "execution_count": null
    },
    {
      "id": "65da5e04-97da-496b-97c0-b89ac8ba676e",
      "cell_type": "code",
      "source": "",
      "metadata": {
        "trusted": true
      },
      "outputs": [],
      "execution_count": null
    }
  ]
}